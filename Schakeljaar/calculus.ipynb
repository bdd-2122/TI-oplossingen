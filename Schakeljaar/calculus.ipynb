# Calculus

Een opsomming van regels en formules die ik best nuttig vind. Er ontbreken nog een heel aantal dingen. Aarzel niet om er wat aan toe te voegen.

## Afgeleiden

**The Constant Rule**:
$$
\frac{d}{dt} \big[ c f(t) \big] = c \frac{d}{dt} \big[ f(t) \big] = c f'(t)
$$
**The Sum Rule**:
$$
\frac{d}{dt} \big[ f(t) + g(t) \big] = f'(t) + g'(t)
$$
**The Product Rule:**
$$
\frac{d}{dx} \left[ f(x) g(x) \right] = f(x) g'(x) + g(x) f'(x)
$$
**The Power Rule:**
$$
\frac{d}{dx} \left[ x^{a} \right] = a x^{a-1}.
$$
**Chain Rule:**
$$
\frac{d}{dx} \big[ (f \circ g)(x)\big] = f'\big(g(x)\big)g'(x).
$$
**The Quotient Rule:**
$$
\frac{d}{dx} \left[ \frac{f(x)}{g(x)} \right] = \frac{ g(x) f'(x) - f(x) g'(x)}{g(x)^{2}}.
$$

## Integrals

**The Power Rule:**
$$
\int x^{n} \, dx = \frac{1}{n+1} x^{n+1} + C, \, \, n \neq -1.
$$

$$
\int x^{-1} dx = \ln |x| + C.
$$

**The sum rule:**
$$
\int \left[ f(x) + g(x) \right] dx = \int f(x) \, dx + \int g(x) \, dx
$$
**The Constant Rule:**
$$
\int \left[ c f(x)\right] dx = c \int f(x) \, dx
$$

## Binomial expansions

### x + y

$$
{\displaystyle {\begin{aligned}(x+y)^{0}&=1,\\[8pt](x+y)^{1}&=x+y,\\[8pt](x+y)^{2}&=x^{2}+2xy+y^{2},\\[8pt](x+y)^{3}&=x^{3}+3x^{2}y+3xy^{2}+y^{3},\\[8pt](x+y)^{4}&=x^{4}+4x^{3}y+6x^{2}y^{2}+4xy^{3}+y^{4},\\[8pt](x+y)^{5}&=x^{5}+5x^{4}y+10x^{3}y^{2}+10x^{2}y^{3}+5xy^{4}+y^{5},\\[8pt](x+y)^{6}&=x^{6}+6x^{5}y+15x^{4}y^{2}+20x^{3}y^{3}+15x^{2}y^{4}+6xy^{5}+y^{6},\\[8pt](x+y)^{7}&=x^{7}+7x^{6}y+21x^{5}y^{2}+35x^{4}y^{3}+35x^{3}y^{4}+21x^{2}y^{5}+7xy^{6}+y^{7},\\[8pt](x+y)^{8}&=x^{8}+8x^{7}y+28x^{6}y^{2}+56x^{5}y^{3}+70x^{4}y^{4}+56x^{3}y^{5}+28x^{2}y^{6}+8xy^{7}+y^{8}.\end{aligned}}}
$$

## Factorization

$$
a^2 – b^2 = (a + b)(a – b)\\
a^2 + b^2 = (a + b)^2 - 2ab\\
a^3 – b^3 = (a – b)(a^2 + ab + b^2)\\
a^3 + b^3 = (a + b)(a^2 – ab + b^2)\\
(a + b + c)^2 = a^2 + b^2 +c^2 + 2ab + 2ac + 2bc
$$

